{
 "cells": [
  {
   "cell_type": "code",
   "execution_count": 1,
   "metadata": {},
   "outputs": [],
   "source": [
    "import pandas as pd\n",
    "import io\n",
    "import requests"
   ]
  },
  {
   "cell_type": "code",
   "execution_count": 2,
   "metadata": {},
   "outputs": [],
   "source": [
    "# test\n",
    "url=\"https://www.londonair.org.uk/london/asp/downloadsite.asp?site=IS2&species1=NOm&species2=NO2m&species3=NOXm&species4=PM25m&species5=&species6=&start=1-jan-2019&end=8-feb-2021&res=6&period=daily&units=ugm3\"\n",
    "s=requests.get(url).content\n",
    "c=pd.read_csv(io.StringIO(s.decode('utf-8')))"
   ]
  },
  {
   "cell_type": "code",
   "execution_count": 34,
   "metadata": {},
   "outputs": [],
   "source": [
    "codes = ['BG1', 'BG2', 'BX2', 'BX0', 'BQ7', 'BQ8', 'BX1', 'BQ9', 'BT8', 'BT4', 'BT6', 'BT5', 'BY7', 'BL0', 'IM1', \n",
    "          'CD1', 'CT4', 'CT2', 'CT3', 'CT8', 'CT6', 'CR5', 'CR8', 'CR9', 'CR7', 'ZR4', 'ZR2', 'EI3', 'EA6', 'EA8', 'EI8', 'EI1', 'EN5',\n",
    "          'EN1', 'EN4', 'EN7', 'GN0', 'GR7', 'GR4', 'GB6', 'GB0', 'GN4', 'GN6', 'GN3', 'GN5', 'GR9', 'GR8', 'HK6', 'HG4', 'HG1', 'HR2', \n",
    "          'HR1', 'HV1', 'HV3', 'LH0', 'HI0', 'IS6', 'IS2', 'MW1', 'MW2',' MW4', 'NB1', 'WMB', 'WM6', 'MY7', 'MY1', 'WM0', 'WMD', 'GV1', \n",
    "          'GV2', 'WM5', 'WMC', 'WA2', 'WAB', 'WA8', 'WA7', 'WA9', 'WAC', 'WAA', 'TH2', 'TH4', 'TK3', 'TK8', 'TK1', 'TK9', 'ST6', 'ST4', \n",
    "          'ST9', 'ST5', 'SKB', 'SK8', 'SKA', 'SK6', 'SK9', 'SK5', 'ZV1', 'ZV2', 'RI1', 'RI2', 'RG8', 'RG3', 'RG6', 'RG1', 'RG7', 'RB7',\n",
    "          'RB4', 'RD0', 'ME9', 'ME2', 'ME6', 'ME5', 'TD5', 'LW2', 'LW4', 'HP1', 'LW5', 'LW1', 'LB6', 'LB4', 'LB5', 'KT4', 'KT6', 'KT5', \n",
    "          'KF1', 'KC1']"
   ]
  },
  {
   "cell_type": "code",
   "execution_count": 35,
   "metadata": {},
   "outputs": [],
   "source": [
    "# loop through all the sites\n",
    "# codes = ['KC1', 'HK6', 'KF1']\n",
    "date_range = \"start=1-jan-2019&end=8-feb-2021\"\n",
    "\n",
    "data = []\n",
    "\n",
    "for site in codes:\n",
    "    url = f\"https://www.londonair.org.uk/london/asp/downloadsite.asp?site={site}&species1=NO2m&species2=FINE&species3=PM25m&species4=&species5=&species6=&{date_range}&res=6&period=daily&units=ugm3\"\n",
    "#            \"https://www.londonair.org.uk/london/asp/downloadsite.asp?site=HK6&species1=NO2m&species2=FINE&species3=&species4=&species5=&species6=&start=1-jan-2019&end=8-feb-2021&res=6&period=daily&units=ugm3\"\n",
    "    s = requests.get(url).content\n",
    "    c = pd.read_csv(io.StringIO(s.decode('utf-8')))\n",
    "    data.append(c)\n",
    "    \n",
    "gl_aq = pd.concat(data)"
   ]
  },
  {
   "cell_type": "code",
   "execution_count": 39,
   "metadata": {},
   "outputs": [],
   "source": [
    "gl_aq.to_csv(\"../data/processed/gl_AQ.csv\")"
   ]
  }
 ],
 "metadata": {
  "kernelspec": {
   "display_name": "Python 3",
   "language": "python",
   "name": "python3"
  },
  "language_info": {
   "codemirror_mode": {
    "name": "ipython",
    "version": 3
   },
   "file_extension": ".py",
   "mimetype": "text/x-python",
   "name": "python",
   "nbconvert_exporter": "python",
   "pygments_lexer": "ipython3",
   "version": "3.7.3"
  }
 },
 "nbformat": 4,
 "nbformat_minor": 4
}
